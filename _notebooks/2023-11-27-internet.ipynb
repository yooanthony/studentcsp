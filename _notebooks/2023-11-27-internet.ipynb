{
 "cells": [
  {
   "cell_type": "markdown",
   "metadata": {},
   "source": [
    "---\n",
    "comments: true\n",
    "layout: notebook\n",
    "title: The Internet\n",
    "description: Big Idea 4.1 Student Teaching\n",
    "type: tangibles\n",
    "toc: true\n",
    "courses: { compsci: {week: 1} }\n",
    "---"
   ]
  },
  {
   "cell_type": "markdown",
   "metadata": {},
   "source": [
    "# 4.1 The Internet"
   ]
  },
  {
   "cell_type": "markdown",
   "metadata": {},
   "source": [
    "## Part 1\n",
    "\n",
    "- <span style=\"background-color: #b63c59\">How did the internet come to life?</span> It all began by these massive computers. They were isolated and very hard to work on. As a result, the idea of the internet came to life. It was to easily communicate between users and opened many gateways to digital communication.   \n",
    "\n",
    "- <span style=\"background-color: #b63c59\">The internet</span> is basically a way for computers to talk to each other using networks\n",
    "\n",
    "- A <span style=\"background-color: #b63c59\">packet</span> is a small amount of data or information sent over a network that includes information about the sender and destination.\n",
    "\n",
    "![Packet](../../../images/packet.jpeg)\n",
    "\n",
    "- A <span style=\"background-color: #b63c59\">computer network</span> is a group of computing devices interacting with each other in some sort of way\n",
    "\n",
    "## How do computers send data to each other?\n",
    "\n",
    "- In a process called <span style=\"background-color: #b63c59\">packet switching</span>, a message(file) is broken up into packets which are reassembled by the receiver. It is often times converted into something the computer can understand like binary. \n",
    "\n",
    "- A <span style=\"background-color: #b63c59\">path</span> is between the sender and receiver and the router will help find the path. For example, If you're accessing a website, routers determine the optimal path for the data packets to traverse the internet (routing), following a series of interconnected devices (paths) to reach the web server.\n",
    "\n",
    "- <span style=\"background-color: #b63c59\">Routing</span> is a process that finds a path from the sender to receiver\n",
    "\n",
    "\n",
    "\n",
    "\n",
    "- <span style=\"background-color: #b63c59\">Bandwidth</span> is the maximum amount of data that can be sent in a computer network\n"
   ]
  },
  {
   "cell_type": "markdown",
   "metadata": {},
   "source": [
    "## Popcorn Hack 1"
   ]
  },
  {
   "cell_type": "markdown",
   "metadata": {},
   "source": [
    "![The Internet](../../../images/network.png)"
   ]
  },
  {
   "cell_type": "markdown",
   "metadata": {},
   "source": [
    "- What is the diagram showing?\n",
    "\n",
    "1. Bandwidth\n",
    "2. Computer Network\n",
    "3. Packet Switching\n",
    "4. Operating System\n",
    "\n",
    "* Two possible answers\n",
    "\n",
    "<button id=\"answer1\">Answer</button>\n",
    "\n",
    "<script>\n",
    "    const answerButton = document.getElementById('answer1')\n",
    "\n",
    "answerButton.addEventListener('click', (event) => {\n",
    "    answerButton.innerHTML = 'The two answers are 2 and 3 because it shows networks between a sender and receiver and the process of sending packets to send data.'\n",
    "});\n",
    "</script>\n"
   ]
  },
  {
   "cell_type": "markdown",
   "metadata": {},
   "source": [
    "## Part 2\n",
    "\n",
    "- <span style=\"background-color: #b63c59\">Protocols</span> are sets of rules for the way data is transferred throughout the internet\n",
    "\n",
    "- There are two acceptable models that show the layers that data is sent by protocols\n",
    "    - OSI \n",
    "    - TCP/IP\n",
    "        - TCP/IP is more widely accepted but OSI is still used\n",
    "\n",
    "- The OSI(Open Systems Interconnect) model shows the 7 layers you have to go throught to communicate between other computers\n",
    "\n",
    "![OSI Model](../../../images/osi.png)\n",
    "\n",
    "- TCP(Transmission Control Protocol) is a protocol for how to send messages between devices\n",
    "\n",
    "![TCP Model](../../../images/tcp.png)\n",
    "\n",
    "![Waist Model](../../../images/narrow-waist.png)\n",
    "\n",
    "## Popcorn Hack 2\n",
    "\n",
    "A request from the frontend to the backend is being made and the response returns JSON. What layer(s) did the data go through?\n",
    "\n",
    "1. Application\n",
    "2. Transport\n",
    "3. Internet\n",
    "4. Network Access\n",
    "5. All layers\n",
    "\n",
    "\n",
    "<button id=\"answer2\">Answer</button>\n",
    "\n",
    "<script>\n",
    "    const answerButton2 = document.getElementById('answer2')\n",
    "\n",
    "answerButton2.addEventListener('click', (event) => {\n",
    "    answerButton2.innerHTML = '5 is correct because the data has travel through all layers in order to be sent by the client and received by the server'\n",
    "});\n",
    "</script>"
   ]
  },
  {
   "cell_type": "markdown",
   "metadata": {},
   "source": [
    "## What is an example of the OSI/TCP Model\n",
    "\n",
    "![Process](../../../images/process.png)\n",
    "\n",
    "## Network Access/Internet Layer\n",
    "\n",
    "- The process usually starts with the Internet layer where the user's computer is assigned a unique IP address so it can communicate with other computers or web servers\n",
    "    - A DHCP(Dynamic Host Configuration Protocol) assigns the computer its unique IP address\n",
    "\n",
    "## Application/Transport Layer\n",
    "\n",
    "1. The user sends a <span style=\"background-color: #b63c59\">request</span> to a server or page\n",
    "2. If the user wants to go to a website like amazon.com, it has its <span style=\"background-color: #b63c59\">unique</span> IP address but it isn't readable by humans so a <span style=\"background-color: #b63c59\">DNS</span>(Domain Name Service), which stores the IP address inside of a database, sends it over the user\n",
    "3. During this process, the user sent a <span style=\"background-color: #b63c59\">TCP</span> request for the IP of amazon.com to the DNS server and the DNS server sent a TCP <span style=\"background-color: #b63c59\">response</span> in the form of packets for the IP of amazon.com\n",
    "4. Now, the user can send a <span style=\"background-color: #b63c59\">request</span> to the IP of the webpage like amazon.com\n",
    "5. The last step is for a <span style=\"background-color: #b63c59\">router</span> to send the user to the correct destination of the IP. In this case, amazon.com.\n",
    "\n",
    "\n",
    "## Popcorn Hack 3\n",
    "\n",
    "How does a user get the IP for a web page when they enter the url?\n",
    "\n",
    "1. It goes through layers when the request is made to the webp\n",
    "2. The DNS sends it to the user in the form of a TCP response\n",
    "3. There is no need for the user to know the ip when going to the url\n",
    "4. The user automatically knows\n",
    "\n",
    "<button id=\"answer3\">Answer</button>\n",
    "\n",
    "<script>\n",
    "    const answerButton3 = document.getElementById('answer3')\n",
    "\n",
    "answerButton3.addEventListener('click', (event) => {\n",
    "    answerButton3.innerHTML = '1 is correct but it doesnt answer the question. 2 is the correct answer because the DNS stores the url as a IP in a database and sends it the user when the user makes a request to the url'\n",
    "});\n",
    "</script>"
   ]
  },
  {
   "cell_type": "markdown",
   "metadata": {},
   "source": [
    "## Protocols used here are:\n",
    "- <span style=\"background-color: #b63c59\">HTTP</span> - Hyper Text Transfer Protocol   \n",
    "    - HTTP is a protocol that says how data is transferred over the internet\n",
    "    - Used for sending <span style=\"background-color: #b63c59\">requests</span> from a user and receiving a <span style=\"background-color: #b63c59\">response</span> in the form of HTML or JSON from the server.\n",
    "    - In last trimester, you made a request to the backend from the frontend using HTTP and it sent a response in the form of JSON\n",
    "- <span style=\"background-color: #b63c59\">HTTPS</span>\n",
    "    - HTTPS is HTTP with security. In last trimester's final project, the devops person used certbot to make the HTTP requests to the backend secure.\n",
    "\n",
    "![HTTP](../../../images/http.png)\n",
    "\n",
    "- <span style=\"background-color: #b63c59\">TCP/IP</span> - Transmission Control Protocol, Internet Protocol\n",
    "    - TCP/IP is important because HTTP requests and responses depend on a TCP connection between the client and server\n",
    "    - Once a TCP connction is made, HTTP requests are carried in TCP packets\n",
    "    - IP sends the TCP packets to the correct location\n",
    "    - When you made the HTTP request from the frontend to the backend, your request was broken up into TCP packets and sent to the correct location by IP\n",
    "\n",
    "![TCP/IP](../../../images/tcpip.png)"
   ]
  },
  {
   "cell_type": "markdown",
   "metadata": {},
   "source": [
    "## Homework\n",
    "\n",
    "Bandwidth, in the context of computer networks, refers to the maximum data transfer rate of a network or a communication channel. It represents the amount of data that can be transmitted in a given time period. Bandwidth is typically measured in bits per second (bps) and can vary based on the capacity and congestion of the network.\n",
    "Higher bandwidth allows for faster data transfer and better performance. For example, a high-bandwidth internet connection enables quicker downloads, smoother streaming of high-definition videos, and faster loading of web pages.\n",
    "Low bandwidth, on the other hand, limits the amount of data that can be transmitted, leading to slower data transfer speeds and reduced efficiency. This can result in buffering issues with streaming media, longer download times, and delays in accessing online services.\n",
    "Computer Network:\n",
    "\n",
    "Computer networks consist of various components that work together to facilitate communication and data exchange between devices. Key components include:\n",
    "\n",
    "Network devices: These include routers, switches, and hubs that enable the flow of data between devices within the network.\n",
    "Network protocols: These are a set of rules and standards that govern how data is transmitted and received. Examples include TCP/IP (Transmission Control Protocol/Internet Protocol) for internet communication.\n",
    "Network topology: This refers to the physical or logical layout of the network, such as bus, star, or mesh topology.\n",
    "Scalability: Networks should be designed to accommodate growth and increased demands without significant performance degradation.\n",
    "Security: Network security measures protect data from unauthorized access or threats, including firewalls, encryption, and authentication mechanisms.\n",
    "Reliability: Networks should be reliable, minimizing downtime and ensuring consistent connectivity.\n",
    "In real-world examples, LANs (Local Area Networks) are used within small areas like homes, offices, or schools, allowing devices to share resources and communicate efficiently. WANs (Wide Area Networks) connect geographically dispersed locations, such as connecting multiple branches of a company. WANs provide long-distance communication, often relying on leased lines or the internet.\n",
    "\n",
    "Packet Switching:\n",
    "\n",
    "Packet switching is a method used in modern communication systems to transmit and route data. It involves breaking data into small packets, attaching destination information, and sending them individually over a network. Contrasting with circuit switching, where a dedicated path is established for the entire duration of a communication, packet switching offers several advantages:\n",
    "\n",
    "Efficiency: Packet switching allows for more efficient use of network resources. Since packets can be routed independently, multiple packets can share the same network links, maximizing network capacity.\n",
    "Robustness: In packet switching, if a network link or node fails, packets can be rerouted dynamically, ensuring that data can still reach its destination through alternate paths. This enhances the reliability and resilience of the network.\n",
    "Flexibility: Packet switching supports different types of data, including voice, video, and text, as packets can be prioritized and delivered based on their specific requirements.\n",
    "Data packet journey: When a data packet is sent, it traverses the network, hopping from one network device to another based on the destination address until it reaches its final destination. At each hop, the packet is processed, forwarded, and potentially buffered if there is congestion. Once all the packets arrive, they are reassembled into the original data.\n",
    "Packet switching is widely used in internet communication, where data is divided into packets and routed across multiple networks to reach its destination efficiently."
   ]
  },
  {
   "cell_type": "markdown",
   "metadata": {},
   "source": [
    "## "
   ]
  },
  {
   "cell_type": "markdown",
   "metadata": {},
   "source": [
    "Bandwidth, in the context of computer networks, refers to the maximum data transfer rate of a network or a communication channel. It represents the amount of data that can be transmitted in a given time period. Bandwidth is typically measured in bits per second (bps) and can vary based on the capacity and congestion of the network.\n",
    "Higher bandwidth allows for faster data transfer and better performance. For example, a high-bandwidth internet connection enables quicker downloads, smoother streaming of high-definition videos, and faster loading of web pages.\n",
    "Low bandwidth, on the other hand, limits the amount of data that can be transmitted, leading to slower data transfer speeds and reduced efficiency. This can result in buffering issues with streaming media, longer download times, and delays in accessing online services.\n",
    "\n",
    "\n",
    "Computer Network:\n",
    "\n",
    "Computer networks consist of various components that work together to facilitate communication and data exchange between devices. Key components include:\n",
    "Network devices: These include routers, switches, and hubs that enable the flow of data between devices within the network.\n",
    "Network protocols: These are a set of rules and standards that govern how data is transmitted and received. Examples include TCP/IP (Transmission Control Protocol/Internet Protocol) for internet communication.\n",
    "Network topology: This refers to the physical or logical layout of the network, such as bus, star, or mesh topology.\n",
    "Scalability: Networks should be designed to accommodate growth and increased demands without significant performance degradation.\n",
    "Security: Network security measures protect data from unauthorized access or threats, including firewalls, encryption, and authentication mechanisms.\n",
    "Reliability: Networks should be reliable, minimizing downtime and ensuring consistent connectivity.\n",
    "In real-world examples, LANs (Local Area Networks) are used within small areas like homes, offices, or schools, allowing devices to share resources and communicate efficiently. WANs (Wide Area Networks) connect geographically dispersed locations, such as connecting multiple branches of a company. WANs provide long-distance communication, often relying on leased lines or the internet.\n",
    "\n",
    "Packet Switching:\n",
    "\n",
    "Packet switching is a method used in modern communication systems to transmit and route data. It involves breaking data into small packets, attaching destination information, and sending them individually over a network. Contrasting with circuit switching, where a dedicated path is established for the entire duration of a communication, packet switching offers several advantages:\n",
    "Efficiency: Packet switching allows for more efficient use of network resources. Since packets can be routed independently, multiple packets can share the same network links, maximizing network capacity.\n",
    "Robustness: In packet switching, if a network link or node fails, packets can be rerouted dynamically, ensuring that data can still reach its destination through alternate paths. This enhances the reliability and resilience of the network.\n",
    "Flexibility: Packet switching supports different types of data, including voice, video, and text, as packets can be prioritized and delivered based on their specific requirements.\n",
    "Data packet journey: When a data packet is sent, it traverses the network, hopping from one network device to another based on the destination address until it reaches its final destination. At each hop, the packet is processed, forwarded, and potentially buffered if there is congestion. Once all the packets arrive, they are reassembled into the original data.\n",
    "Packet switching is widely used in internet communication, where data is divided into packets and routed across multiple networks to reach its destination efficiently."
   ]
  }
 ],
 "metadata": {
  "kernelspec": {
   "display_name": "Python 3 (ipykernel)",
   "language": "python",
   "name": "python3"
  },
  "language_info": {
   "codemirror_mode": {
    "name": "ipython",
    "version": 3
   },
   "file_extension": ".py",
   "mimetype": "text/x-python",
   "name": "python",
   "nbconvert_exporter": "python",
   "pygments_lexer": "ipython3",
   "version": "3.11.4"
  }
 },
 "nbformat": 4,
 "nbformat_minor": 4
}
