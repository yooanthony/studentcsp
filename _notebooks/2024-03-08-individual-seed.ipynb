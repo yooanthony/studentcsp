{
 "cells": [
  {
   "cell_type": "markdown",
   "metadata": {},
   "source": [
    "---\n",
    "layout: post\n",
    "toc: true\n",
    "title: Individual Seed\n",
    "description: Tri 3 individual seed\n",
    "courses: { csp: {week: 25} }\n",
    "type: ccc\n",
    "---"
   ]
  },
  {
   "cell_type": "code",
   "execution_count": null,
   "metadata": {
    "vscode": {
     "languageId": "plaintext"
    }
   },
   "outputs": [],
   "source": [
    "  {\n",
    "   \"cell_type\": \"markdown\",\n",
    "   \"metadata\": {},\n",
    "   \"source\": [\n",
    "    \"# Requirements\\n\",\n",
    "    \"# Progress\\n\",\n",
    "    \"- [Practice MCQ Review 1](https://yooanthony.github.io/studentcsp/2023/10/09/College-Board-Review.html)\\n\",\n",
    "    \"- [Practice MCQ Review 2](https://yooanthony.github.io/studentcsp/2024/01/24/College-Board-Review.html)\\n\",\n",
    "    \"- [Github Analytics for CPT Frontend](https://github.com/aidenk1/geocpt/graphs/contributors)\\n\",\n",
    "    \"- [Commit 1: Made foundation for the travel quiz](https://github.com/rayanesouuuu1234/tri2/commit/18a51315c526070e86a6c33b8c11c6dcb28bcc20)\\n\",\n",
    "    \"- [Commit 2: Added a function that calculates the best travel location based on the answers in the quiz](https://github.com/aidenk1/geocpt/commit/38bca37fdbd848205875d53b70176b382755f479)\\n\",\n",
    "    \"- [Individual CPT Final](https://yooanthony.github.io/studentcsp/2024/02/28/finalcpt.html)\\n\",\n",
    "   ]\n",
    "  },"
   ]
  }
 ],
 "metadata": {
  "language_info": {
   "name": "python"
  }
 },
 "nbformat": 4,
 "nbformat_minor": 2
}
