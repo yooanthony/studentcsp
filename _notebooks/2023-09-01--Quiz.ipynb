{
 "cells": [
  {
   "attachments": {},
   "cell_type": "markdown",
   "metadata": {},
   "source": [
    "---\n",
    "# this is YAML front matter\n",
    "layout: post\n",
    "title: Quiz!!!\n",
    "description: These examples show the basic language structures and constructs of Python using input and output (print) commands.\n",
    "courses: { csp: {week: 1, categories: [1.A, 3.A, 4.B]} }\n",
    "categories: [C4.0]\n",
    "type: hacks\n",
    "---"
   ]
  },
  {
   "attachments": {},
   "cell_type": "markdown",
   "metadata": {},
   "source": [
    "### Quiz by Anthony"
   ]
  },
  {
   "cell_type": "code",
   "execution_count": null,
   "metadata": {},
   "outputs": [],
   "source": [
    "# Define a list of questions, answer choices, and correct answers\n",
    "questions = [\n",
    "    {\n",
    "        \"question\": \"What is the capital of France?\",\n",
    "        \"choices\": [\"A) London\", \"B) Berlin\", \"C) Paris\", \"D) Madrid\"],\n",
    "        \"correct_answer\": \"C\"\n",
    "    },\n",
    "    {\n",
    "        \"question\": \"Which planet is known as the Red Planet?\",\n",
    "        \"choices\": [\"A) Earth\", \"B) Mars\", \"C) Venus\", \"D) Jupiter\"],\n",
    "        \"correct_answer\": \"B\"\n",
    "    },\n",
    "    {\n",
    "        \"question\": \"What is the largest mammal on Earth?\",\n",
    "        \"choices\": [\"A) African Elephant\", \"B) Blue Whale\", \"C) Giraffe\", \"D) Hippopotamus\"],\n",
    "        \"correct_answer\": \"B\"\n",
    "    }\n",
    "]\n",
    "# Initialize a variable to keep track of the score\n",
    "score = 0\n",
    "# Iterate through the questions\n",
    "for i, question in enumerate(questions, 1):\n",
    "    print(f\"Question {i}: {question['question']}\")\n",
    "    for choice in question['choices']:\n",
    "        print(choice)\n",
    "    # Get the user's answer\n",
    "    user_answer = input(\"Enter your answer (A/B/C/D): \").upper()\n",
    "    # Check if the user's answer is correct\n",
    "    if user_answer == question['correct_answer']:\n",
    "        print(\"Correct!\\n\")\n",
    "        score += 1\n",
    "    else:\n",
    "        print(f\"Wrong. The correct answer is {question['correct_answer']}.\\n\")\n",
    "# Display the final score\n",
    "print(f\"You got {score} out of {len(questions)} questions correct.\")"
   ]
  }
 ],
 "metadata": {
  "kernelspec": {
   "display_name": "Python 3.8.10 64-bit",
   "language": "python",
   "name": "python3"
  },
  "language_info": {
   "codemirror_mode": {
    "name": "ipython",
    "version": 3
   },
   "file_extension": ".py",
   "mimetype": "text/x-python",
   "name": "python",
   "nbconvert_exporter": "python",
   "pygments_lexer": "ipython3",
   "version": "3.9.12"
  },
  "vscode": {
   "interpreter": {
    "hash": "916dbcbb3f70747c44a77c7bcd40155683ae19c65e1c03b4aa3499c5328201f1"
   }
  }
 },
 "nbformat": 4,
 "nbformat_minor": 2
}
