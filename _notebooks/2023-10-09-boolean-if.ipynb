{
 "cells": [
  {
   "cell_type": "markdown",
   "metadata": {},
   "source": [
    "---\n",
    "toc: false\n",
    "comments: false\n",
    "layout: post\n",
    "title: Boolean, If Lesson\n",
    "description: Team LEIA\n",
    "type: hacks\n",
    "courses: { compsci: {week: 8} }\n",
    "---"
   ]
  },
  {
   "cell_type": "markdown",
   "metadata": {},
   "source": [
    "# Boolean\n",
    "\n",
    "- A Boolean value is either true or false.\n",
    "- A Boolean expression produces a Boolean value (true or false) when evaluated."
   ]
  },
  {
   "cell_type": "markdown",
   "metadata": {},
   "source": [
    "## <mark>Conditional (\"if\") statements</mark>\n",
    "\n",
    "- Affect the sequential flow of control by executing different statements based on the value of a Boolean expression."
   ]
  },
  {
   "cell_type": "code",
   "execution_count": null,
   "metadata": {
    "vscode": {
     "languageId": "html"
    }
   },
   "outputs": [],
   "source": [
    "IF (condition)\n",
    "{\n",
    "\t<block of statements>\n",
    "}\n",
    "\n",
    "The code in <block of statements> is executed if the Boolean expression condition evaluates to true; no action is taken if condition evaluates to false.\n",
    "\n",
    "IF (condition)\n",
    "{\n",
    "\t<block of statements>\n",
    "}\n",
    "ELSE\n",
    "{\n",
    "\t<second block of statements>\n",
    "}\n",
    "\n",
    "The code in the first <block of statements> is executed if the Boolean expression condition evaluates to true; otherwise, the code in <second block of statements> is executed."
   ]
  },
  {
   "cell_type": "markdown",
   "metadata": {},
   "source": [
    "<b>Example:</b> Calculate the sum of 2 numbers. If the sum is greater than 10, display 10; otherwise, display the sum."
   ]
  },
  {
   "cell_type": "code",
   "execution_count": null,
   "metadata": {
    "vscode": {
     "languageId": "html"
    }
   },
   "outputs": [],
   "source": [
    "num1 = INPUT\n",
    "num2 = INPUT\n",
    "sum = num1 + num2\n",
    "IF (sum > 10)\n",
    "{\n",
    "\tDISPLAY (10)\n",
    "}\n",
    "ELSE\n",
    "{\n",
    "\tDISPLAY (sum)\n",
    "}"
   ]
  },
  {
   "cell_type": "markdown",
   "metadata": {},
   "source": [
    "# Hack 1\n",
    "\n",
    "- Add a variable that represents an age.\n",
    "\n",
    "- Add an 'if' and 'print' function that says \"You are an adult\" if your age is greater than or equal to 18.\n",
    "\n",
    "- Make a function that prints \"You are a minor\" with the else function."
   ]
  },
  {
   "cell_type": "code",
   "execution_count": null,
   "metadata": {},
   "outputs": [],
   "source": [
    "age = int(input(\"Enter your age\"))\n",
    "if(age >= 18):\n",
    "    {\n",
    "    print(\"You are an adult\")\n",
    "    }\n",
    "else:\n",
    "    {\n",
    "    print(\"You are a minor\")\n",
    "    }"
   ]
  },
  {
   "cell_type": "markdown",
   "metadata": {},
   "source": [
    "## <mark><b>Relational operators:</b></mark> \n",
    "- Used to test the relationship between 2 variables, expressions, or values. These relational operators are used for comparisons and they evaluate to a Boolean value (true or false).\n",
    "\n",
    "<b>Ex.</b> a == b evaluates to true if a and b are equal, otherwise evaluates to false\n",
    "\n",
    "- a == b (equals)\t\n",
    "- a != b (not equal to)\n",
    "- a > b (greater than)\n",
    "- a < b (less than)\n",
    "- a >= b (greater than or equal to)\n",
    "- a <= b (less than or equal to)"
   ]
  },
  {
   "cell_type": "markdown",
   "metadata": {},
   "source": [
    "<b>Example:</b> The legal age to work in California is 14 years old. How would we write a Boolean expression to check if someone is at least 14 years old?\n",
    "\n",
    "age >= 14"
   ]
  },
  {
   "cell_type": "markdown",
   "metadata": {},
   "source": [
    "<b>Example:</b> Write a Boolean expression to check if the average of height1, height2, and height3 is at least 65 inches.\n",
    "\n",
    "(height1 + height2 + height3) / 3 >= 65"
   ]
  },
  {
   "cell_type": "markdown",
   "metadata": {},
   "source": [
    "# Hack 2\n",
    "\n",
    "- Make a variable called 'is_raining' and set it to 'True\".\n",
    "\n",
    "- Make an if statement that prints \"Bring an umbrella!\" if it is true\n",
    "\n",
    "- Make an else statement that says \"The weather is clear\"."
   ]
  },
  {
   "cell_type": "code",
   "execution_count": null,
   "metadata": {},
   "outputs": [],
   "source": [
    "is_raining = True\n",
    "\n",
    "if is_raining:\n",
    "    print(\"Bring an umbrella\")\n",
    "else:\n",
    "    print(\"The weather is clear\")"
   ]
  },
  {
   "cell_type": "markdown",
   "metadata": {},
   "source": [
    "## <mark><b>Logical operators:</b></mark>\n",
    "Used to evaluate multiple conditions to produce a single Boolean value.\n",
    "\n",
    "- <b>NOT</b>\tevaluates to true if condition is false, otherwise evaluates to false\n",
    "- <b>AND</b>\tevaluates to true if both conditions are true, otherwise evaluates to false\n",
    "- <b>OR</b>\tevaluates to true if either condition is true or if both conditions are true, otherwise evaluates to false"
   ]
  },
  {
   "cell_type": "markdown",
   "metadata": {},
   "source": [
    "<b>Example:</b> You win the game if you score at least 10 points and have 5 lives left or if you score at least 50 points and have more than 0 lives left. Write the Boolean expression for this scenario.\n",
    "\n",
    "(score >= 10 AND lives == 5) OR (score == 50 AND lives > 0)"
   ]
  },
  {
   "cell_type": "markdown",
   "metadata": {},
   "source": [
    "## <mark><b>Relational and logical operators:</b></mark>\n",
    "\n",
    "<b>Example:</b> These expressions are all different but will produce the same result.\n",
    "\n",
    "- age >= 16\n",
    "- age > 16 OR age == 16\n",
    "- NOT age < 16"
   ]
  },
  {
   "cell_type": "markdown",
   "metadata": {},
   "source": [
    "# Hack 3\n",
    "\n",
    "- Make a function to randomize numbers between 0 and 100 to be assigned to variables a and b using random.randint\n",
    "\n",
    "- Print the values of the variables\n",
    "\n",
    "- Print the relationship of the variables; a is more than, same as, or less than b"
   ]
  },
  {
   "cell_type": "code",
   "execution_count": null,
   "metadata": {},
   "outputs": [],
   "source": [
    "import random\n",
    "\n",
    "a = random.randint(0, 101)\n",
    "b = random.randint(0, 101)\n",
    "\n",
    "print(a)\n",
    "print(b)\n",
    "\n",
    "if a>b:\n",
    "    print(\"a is greater than b\")\n",
    "elif a==b:\n",
    "    print(\"a is equal to b\")\n",
    "else:\n",
    "    print(\"a is less than b\")"
   ]
  },
  {
   "cell_type": "markdown",
   "metadata": {},
   "source": [
    "## <b>Homework</b>\n",
    "\n",
    "### Criteria for above 90%:\n",
    "- Add more questions relating to Boolean rather than only one per topic (ideas: expand on conditional statements, relational/logical operators)\n",
    "- Add a way to organize the user scores (possibly some kind of leaderboard, keep track of high score vs. current score, etc. Get creative!)\n",
    "- Remember to test your code to make sure it functions correctly."
   ]
  },
  {
   "cell_type": "code",
   "execution_count": 4,
   "metadata": {},
   "outputs": [
    {
     "name": "stdout",
     "output_type": "stream",
     "text": [
      "Hello, Anthony running /bin/python\n",
      "You will be asked 5 questions.\n",
      "Question: Question 1. What is a valid Boolean value? type in all lowercase\n",
      "true is correct!\n",
      "Question: Question 2. Boolean expressions are important in program because they control the '__' of a program. type in all lowercase\n",
      "flow is correct!\n",
      "Question: Question 3. The purpose of if else statements is for decision making in the code. true or false\n",
      "true is correct!\n",
      "Question: Question 4. What two symbols are used for 'not equal to' as a relational operator?\n",
      "!= is correct!\n",
      "Question: Question 5. A logical operator is used to evalute multiple conditions to produce 'one' or 'multiple' boolean value(s).\n",
      "multiple is correct!\n",
      "Anthony, you scored 5/5\n"
     ]
    }
   ],
   "source": [
    "#HOMEWORK\n",
    "\n",
    "\n",
    "# The quiz contains questions related to Boolean values, Boolean expressions,\n",
    "# conditional statements, relational operators, and logical operators.\n",
    "\n",
    "# Import necessary modules\n",
    "import getpass  # Module to get the user's name\n",
    "import sys  # Module to access system-related information\n",
    "\n",
    "# Function to ask a question and get a response\n",
    "def question_with_response(prompt):\n",
    "    # Print the question\n",
    "    print(\"Question: \" + prompt)\n",
    "    # Get user input as the response\n",
    "    msg = input()\n",
    "    return msg\n",
    "\n",
    "# Define the number of questions and initialize the correct answers counter\n",
    "questions = 5\n",
    "correct = 0\n",
    "\n",
    "# Personalized greeting message\n",
    "# Collect the student's name\n",
    "user_name = input(\"Enter your name: \")\n",
    "print('Hello, ' + user_name + \" running \" + sys.executable)\n",
    "print(\"You will be asked \" + str(questions) + \" questions.\")\n",
    "answer = input(\"Are you ready to take a test?\")\n",
    "\n",
    "# Question 1: Boolean Basics \n",
    "# Ask a question about Boolean values and check the response\n",
    "# Provide feedback based on the correctness of the response\n",
    "\n",
    "answer1 = question_with_response(\"Question 1. What is a valid Boolean value? type in all lowercase\")\n",
    "if answer1 == \"true\" or answer1 == \"false\":\n",
    "        print(f\"{answer1} is correct!\")\n",
    "        correct += 1\n",
    "else:\n",
    "        print(f\"{answer1} is incorrect! The correct answer is 'true' or 'false'.\")\n",
    "    \n",
    "\n",
    "# Question 2: Boolean Expressions\n",
    "# Ask a question about Boolean expressions and their importance in programming\n",
    "# Provide feedback based on the correctness of the response\n",
    "\n",
    "answer2 = question_with_response(\"Question 2. Boolean expressions are important in program because they control the '__' of a program. type in all lowercase\")\n",
    "if answer2 == \"flow\":\n",
    "        print(f\"{answer2} is correct!\")\n",
    "        correct += 1\n",
    "else:\n",
    "        print(f\"{answer2} is incorrect! The correct answer is 'flow'.\")\n",
    "\n",
    "# Question 3: Conditional Statements\n",
    "# Ask a question about the purpose of conditional (if-else) statements in programming\n",
    "# Provide feedback based on the correctness of the response\n",
    "\n",
    "answer3 = question_with_response(\"Question 3. The purpose of if else statements is for decision making in the code. true or false\")\n",
    "if answer3 == \"true\":\n",
    "        print(f\"{answer3} is correct!\")\n",
    "        correct += 1\n",
    "else:\n",
    "        print(f\"{answer3} is incorrect! The correct answer is 'true'.\")\n",
    "\n",
    "# Question 4: Relational Operators\n",
    "# Ask a question about common relational operators in programming and provide examples\n",
    "# Provide feedback based on the correctness of the response\n",
    "\n",
    "answer4 = question_with_response(\"Question 4. What two symbols are used for 'not equal to' as a relational operator?\")\n",
    "if answer4 == \"!=\":\n",
    "        print(f\"{answer4} is correct!\")\n",
    "        correct += 1\n",
    "else:\n",
    "        print(f\"{answer4} is incorrect! The correct answer is '!='.\")\n",
    "\n",
    "# Question 5: Logical Operators\n",
    "# Ask a question about the use of logical operators in programming and provide examples\n",
    "# Provide feedback based on the correctness of the response\n",
    "\n",
    "answer5 = question_with_response(\"Question 5. A logical operator is used to evalute multiple conditions to produce 'one' or 'multiple' boolean value(s).\")\n",
    "if answer5 == \"multiple\":\n",
    "        print(f\"{answer5} is correct!\")\n",
    "        correct += 1\n",
    "else:\n",
    "        print(f\"{answer5} is incorrect! The correct answer is 'multiple'.\")\n",
    "\n",
    "# Display the final score\n",
    "# Calculate the percentage of correct answers and provide feedback\n",
    "print(user_name + \", you scored \" + str(correct) + \"/\" + str(questions))"
   ]
  }
 ],
 "metadata": {
  "kernelspec": {
   "display_name": "Python 3",
   "language": "python",
   "name": "python3"
  },
  "language_info": {
   "codemirror_mode": {
    "name": "ipython",
    "version": 3
   },
   "file_extension": ".py",
   "mimetype": "text/x-python",
   "name": "python",
   "nbconvert_exporter": "python",
   "pygments_lexer": "ipython3",
   "version": "3.10.12"
  }
 },
 "nbformat": 4,
 "nbformat_minor": 2
}
